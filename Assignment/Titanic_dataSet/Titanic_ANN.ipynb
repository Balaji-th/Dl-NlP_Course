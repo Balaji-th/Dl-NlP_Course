{
 "cells": [
  {
   "cell_type": "markdown",
   "metadata": {
    "id": "1xfndUnZTiVv"
   },
   "source": [
    "# Part 1 - Data Preprocessing"
   ]
  },
  {
   "cell_type": "code",
   "execution_count": 1,
   "metadata": {
    "id": "5sx2jq6fTiVv"
   },
   "outputs": [],
   "source": [
    "# Importing the libraries\n",
    "import tensorflow as tf\n",
    "import pandas as pd\n",
    "import numpy as np\n",
    "import matplotlib.pyplot as plt\n",
    "#import keras\n",
    "\n",
    "from tensorflow.keras.models import Sequential\n",
    "from tensorflow.keras.layers import Dense, Input, Flatten\n",
    "from tensorflow.keras.models import Model\n",
    "from tensorflow.keras.optimizers import Adam\n",
    "from kerastuner.tuners import RandomSearch"
   ]
  },
  {
   "cell_type": "code",
   "execution_count": 3,
   "metadata": {
    "colab": {
     "base_uri": "https://localhost:8080/",
     "height": 241
    },
    "id": "uuhLSU2WTiVx",
    "outputId": "29d10c23-b2be-4b3a-88b2-76efc8d1f79c"
   },
   "outputs": [
    {
     "data": {
      "text/html": [
       "<div>\n",
       "<style scoped>\n",
       "    .dataframe tbody tr th:only-of-type {\n",
       "        vertical-align: middle;\n",
       "    }\n",
       "\n",
       "    .dataframe tbody tr th {\n",
       "        vertical-align: top;\n",
       "    }\n",
       "\n",
       "    .dataframe thead th {\n",
       "        text-align: right;\n",
       "    }\n",
       "</style>\n",
       "<table border=\"1\" class=\"dataframe\">\n",
       "  <thead>\n",
       "    <tr style=\"text-align: right;\">\n",
       "      <th></th>\n",
       "      <th>PassengerId</th>\n",
       "      <th>Survived</th>\n",
       "      <th>Pclass</th>\n",
       "      <th>Name</th>\n",
       "      <th>Sex</th>\n",
       "      <th>Age</th>\n",
       "      <th>SibSp</th>\n",
       "      <th>Parch</th>\n",
       "      <th>Ticket</th>\n",
       "      <th>Fare</th>\n",
       "      <th>Cabin</th>\n",
       "      <th>Embarked</th>\n",
       "    </tr>\n",
       "  </thead>\n",
       "  <tbody>\n",
       "    <tr>\n",
       "      <th>0</th>\n",
       "      <td>1</td>\n",
       "      <td>0</td>\n",
       "      <td>3</td>\n",
       "      <td>Braund, Mr. Owen Harris</td>\n",
       "      <td>male</td>\n",
       "      <td>22.0</td>\n",
       "      <td>1</td>\n",
       "      <td>0</td>\n",
       "      <td>A/5 21171</td>\n",
       "      <td>7.2500</td>\n",
       "      <td>NaN</td>\n",
       "      <td>S</td>\n",
       "    </tr>\n",
       "    <tr>\n",
       "      <th>1</th>\n",
       "      <td>2</td>\n",
       "      <td>1</td>\n",
       "      <td>1</td>\n",
       "      <td>Cumings, Mrs. John Bradley (Florence Briggs Th...</td>\n",
       "      <td>female</td>\n",
       "      <td>38.0</td>\n",
       "      <td>1</td>\n",
       "      <td>0</td>\n",
       "      <td>PC 17599</td>\n",
       "      <td>71.2833</td>\n",
       "      <td>C85</td>\n",
       "      <td>C</td>\n",
       "    </tr>\n",
       "    <tr>\n",
       "      <th>2</th>\n",
       "      <td>3</td>\n",
       "      <td>1</td>\n",
       "      <td>3</td>\n",
       "      <td>Heikkinen, Miss. Laina</td>\n",
       "      <td>female</td>\n",
       "      <td>26.0</td>\n",
       "      <td>0</td>\n",
       "      <td>0</td>\n",
       "      <td>STON/O2. 3101282</td>\n",
       "      <td>7.9250</td>\n",
       "      <td>NaN</td>\n",
       "      <td>S</td>\n",
       "    </tr>\n",
       "    <tr>\n",
       "      <th>3</th>\n",
       "      <td>4</td>\n",
       "      <td>1</td>\n",
       "      <td>1</td>\n",
       "      <td>Futrelle, Mrs. Jacques Heath (Lily May Peel)</td>\n",
       "      <td>female</td>\n",
       "      <td>35.0</td>\n",
       "      <td>1</td>\n",
       "      <td>0</td>\n",
       "      <td>113803</td>\n",
       "      <td>53.1000</td>\n",
       "      <td>C123</td>\n",
       "      <td>S</td>\n",
       "    </tr>\n",
       "    <tr>\n",
       "      <th>4</th>\n",
       "      <td>5</td>\n",
       "      <td>0</td>\n",
       "      <td>3</td>\n",
       "      <td>Allen, Mr. William Henry</td>\n",
       "      <td>male</td>\n",
       "      <td>35.0</td>\n",
       "      <td>0</td>\n",
       "      <td>0</td>\n",
       "      <td>373450</td>\n",
       "      <td>8.0500</td>\n",
       "      <td>NaN</td>\n",
       "      <td>S</td>\n",
       "    </tr>\n",
       "  </tbody>\n",
       "</table>\n",
       "</div>"
      ],
      "text/plain": [
       "   PassengerId  Survived  Pclass  \\\n",
       "0            1         0       3   \n",
       "1            2         1       1   \n",
       "2            3         1       3   \n",
       "3            4         1       1   \n",
       "4            5         0       3   \n",
       "\n",
       "                                                Name     Sex   Age  SibSp  \\\n",
       "0                            Braund, Mr. Owen Harris    male  22.0      1   \n",
       "1  Cumings, Mrs. John Bradley (Florence Briggs Th...  female  38.0      1   \n",
       "2                             Heikkinen, Miss. Laina  female  26.0      0   \n",
       "3       Futrelle, Mrs. Jacques Heath (Lily May Peel)  female  35.0      1   \n",
       "4                           Allen, Mr. William Henry    male  35.0      0   \n",
       "\n",
       "   Parch            Ticket     Fare Cabin Embarked  \n",
       "0      0         A/5 21171   7.2500   NaN        S  \n",
       "1      0          PC 17599  71.2833   C85        C  \n",
       "2      0  STON/O2. 3101282   7.9250   NaN        S  \n",
       "3      0            113803  53.1000  C123        S  \n",
       "4      0            373450   8.0500   NaN        S  "
      ]
     },
     "execution_count": 3,
     "metadata": {},
     "output_type": "execute_result"
    }
   ],
   "source": [
    "# importing the data\n",
    "data = pd.read_csv('titanic_data.csv')\n",
    "data.head()"
   ]
  },
  {
   "cell_type": "code",
   "execution_count": 4,
   "metadata": {
    "colab": {
     "base_uri": "https://localhost:8080/"
    },
    "id": "9PfN7WX4TiV0",
    "outputId": "c2118b90-37cc-4614-a0f6-1e5992279a59"
   },
   "outputs": [
    {
     "data": {
      "text/plain": [
       "PassengerId      0\n",
       "Survived         0\n",
       "Pclass           0\n",
       "Name             0\n",
       "Sex              0\n",
       "Age            177\n",
       "SibSp            0\n",
       "Parch            0\n",
       "Ticket           0\n",
       "Fare             0\n",
       "Cabin          687\n",
       "Embarked         2\n",
       "dtype: int64"
      ]
     },
     "execution_count": 4,
     "metadata": {},
     "output_type": "execute_result"
    }
   ],
   "source": [
    "#---[ Check the Null values Column vice ]---\n",
    "data.isnull().sum()"
   ]
  },
  {
   "cell_type": "code",
   "execution_count": 5,
   "metadata": {
    "colab": {
     "base_uri": "https://localhost:8080/"
    },
    "id": "XLdzI_geTiV0",
    "outputId": "43a0b2f6-c03d-4b7b-caaa-218577ee04a4"
   },
   "outputs": [
    {
     "data": {
      "text/plain": [
       "PassengerId    0\n",
       "Survived       0\n",
       "Pclass         0\n",
       "Name           0\n",
       "Sex            0\n",
       "Age            0\n",
       "SibSp          0\n",
       "Parch          0\n",
       "Ticket         0\n",
       "Fare           0\n",
       "Embarked       0\n",
       "dtype: int64"
      ]
     },
     "execution_count": 5,
     "metadata": {},
     "output_type": "execute_result"
    }
   ],
   "source": [
    "data = data.drop(['Cabin'],axis=1)\n",
    "data = data.dropna()\n",
    "#---[ Check the Null values Column vice ]---\n",
    "data.isnull().sum()"
   ]
  },
  {
   "cell_type": "code",
   "execution_count": 6,
   "metadata": {
    "colab": {
     "base_uri": "https://localhost:8080/",
     "height": 206
    },
    "id": "bNddTmOvTiV0",
    "outputId": "0070f252-9b61-4779-dbc0-49d402abfbda"
   },
   "outputs": [
    {
     "data": {
      "text/html": [
       "<div>\n",
       "<style scoped>\n",
       "    .dataframe tbody tr th:only-of-type {\n",
       "        vertical-align: middle;\n",
       "    }\n",
       "\n",
       "    .dataframe tbody tr th {\n",
       "        vertical-align: top;\n",
       "    }\n",
       "\n",
       "    .dataframe thead th {\n",
       "        text-align: right;\n",
       "    }\n",
       "</style>\n",
       "<table border=\"1\" class=\"dataframe\">\n",
       "  <thead>\n",
       "    <tr style=\"text-align: right;\">\n",
       "      <th></th>\n",
       "      <th>Pclass</th>\n",
       "      <th>Sex</th>\n",
       "      <th>Age</th>\n",
       "      <th>SibSp</th>\n",
       "      <th>Parch</th>\n",
       "      <th>Fare</th>\n",
       "      <th>Embarked</th>\n",
       "    </tr>\n",
       "  </thead>\n",
       "  <tbody>\n",
       "    <tr>\n",
       "      <th>0</th>\n",
       "      <td>3</td>\n",
       "      <td>male</td>\n",
       "      <td>22.0</td>\n",
       "      <td>1</td>\n",
       "      <td>0</td>\n",
       "      <td>7.2500</td>\n",
       "      <td>S</td>\n",
       "    </tr>\n",
       "    <tr>\n",
       "      <th>1</th>\n",
       "      <td>1</td>\n",
       "      <td>female</td>\n",
       "      <td>38.0</td>\n",
       "      <td>1</td>\n",
       "      <td>0</td>\n",
       "      <td>71.2833</td>\n",
       "      <td>C</td>\n",
       "    </tr>\n",
       "    <tr>\n",
       "      <th>2</th>\n",
       "      <td>3</td>\n",
       "      <td>female</td>\n",
       "      <td>26.0</td>\n",
       "      <td>0</td>\n",
       "      <td>0</td>\n",
       "      <td>7.9250</td>\n",
       "      <td>S</td>\n",
       "    </tr>\n",
       "    <tr>\n",
       "      <th>3</th>\n",
       "      <td>1</td>\n",
       "      <td>female</td>\n",
       "      <td>35.0</td>\n",
       "      <td>1</td>\n",
       "      <td>0</td>\n",
       "      <td>53.1000</td>\n",
       "      <td>S</td>\n",
       "    </tr>\n",
       "    <tr>\n",
       "      <th>4</th>\n",
       "      <td>3</td>\n",
       "      <td>male</td>\n",
       "      <td>35.0</td>\n",
       "      <td>0</td>\n",
       "      <td>0</td>\n",
       "      <td>8.0500</td>\n",
       "      <td>S</td>\n",
       "    </tr>\n",
       "  </tbody>\n",
       "</table>\n",
       "</div>"
      ],
      "text/plain": [
       "   Pclass     Sex   Age  SibSp  Parch     Fare Embarked\n",
       "0       3    male  22.0      1      0   7.2500        S\n",
       "1       1  female  38.0      1      0  71.2833        C\n",
       "2       3  female  26.0      0      0   7.9250        S\n",
       "3       1  female  35.0      1      0  53.1000        S\n",
       "4       3    male  35.0      0      0   8.0500        S"
      ]
     },
     "execution_count": 6,
     "metadata": {},
     "output_type": "execute_result"
    }
   ],
   "source": [
    "x = data.drop(['PassengerId','Survived','Name','Ticket'],axis=1)\n",
    "y = data['Survived']\n",
    "x.head()"
   ]
  },
  {
   "cell_type": "code",
   "execution_count": 7,
   "metadata": {
    "colab": {
     "base_uri": "https://localhost:8080/",
     "height": 424
    },
    "id": "F9FC02QjTiV1",
    "outputId": "40d77122-b055-4486-da52-f1c24906bfdb"
   },
   "outputs": [
    {
     "data": {
      "text/html": [
       "<div>\n",
       "<style scoped>\n",
       "    .dataframe tbody tr th:only-of-type {\n",
       "        vertical-align: middle;\n",
       "    }\n",
       "\n",
       "    .dataframe tbody tr th {\n",
       "        vertical-align: top;\n",
       "    }\n",
       "\n",
       "    .dataframe thead th {\n",
       "        text-align: right;\n",
       "    }\n",
       "</style>\n",
       "<table border=\"1\" class=\"dataframe\">\n",
       "  <thead>\n",
       "    <tr style=\"text-align: right;\">\n",
       "      <th></th>\n",
       "      <th>Pclass</th>\n",
       "      <th>Age</th>\n",
       "      <th>SibSp</th>\n",
       "      <th>Parch</th>\n",
       "      <th>Fare</th>\n",
       "      <th>female</th>\n",
       "      <th>male</th>\n",
       "      <th>C</th>\n",
       "      <th>Q</th>\n",
       "      <th>S</th>\n",
       "    </tr>\n",
       "  </thead>\n",
       "  <tbody>\n",
       "    <tr>\n",
       "      <th>0</th>\n",
       "      <td>3</td>\n",
       "      <td>22.0</td>\n",
       "      <td>1</td>\n",
       "      <td>0</td>\n",
       "      <td>7.2500</td>\n",
       "      <td>0</td>\n",
       "      <td>1</td>\n",
       "      <td>0</td>\n",
       "      <td>0</td>\n",
       "      <td>1</td>\n",
       "    </tr>\n",
       "    <tr>\n",
       "      <th>1</th>\n",
       "      <td>1</td>\n",
       "      <td>38.0</td>\n",
       "      <td>1</td>\n",
       "      <td>0</td>\n",
       "      <td>71.2833</td>\n",
       "      <td>1</td>\n",
       "      <td>0</td>\n",
       "      <td>1</td>\n",
       "      <td>0</td>\n",
       "      <td>0</td>\n",
       "    </tr>\n",
       "    <tr>\n",
       "      <th>2</th>\n",
       "      <td>3</td>\n",
       "      <td>26.0</td>\n",
       "      <td>0</td>\n",
       "      <td>0</td>\n",
       "      <td>7.9250</td>\n",
       "      <td>1</td>\n",
       "      <td>0</td>\n",
       "      <td>0</td>\n",
       "      <td>0</td>\n",
       "      <td>1</td>\n",
       "    </tr>\n",
       "    <tr>\n",
       "      <th>3</th>\n",
       "      <td>1</td>\n",
       "      <td>35.0</td>\n",
       "      <td>1</td>\n",
       "      <td>0</td>\n",
       "      <td>53.1000</td>\n",
       "      <td>1</td>\n",
       "      <td>0</td>\n",
       "      <td>0</td>\n",
       "      <td>0</td>\n",
       "      <td>1</td>\n",
       "    </tr>\n",
       "    <tr>\n",
       "      <th>4</th>\n",
       "      <td>3</td>\n",
       "      <td>35.0</td>\n",
       "      <td>0</td>\n",
       "      <td>0</td>\n",
       "      <td>8.0500</td>\n",
       "      <td>0</td>\n",
       "      <td>1</td>\n",
       "      <td>0</td>\n",
       "      <td>0</td>\n",
       "      <td>1</td>\n",
       "    </tr>\n",
       "    <tr>\n",
       "      <th>...</th>\n",
       "      <td>...</td>\n",
       "      <td>...</td>\n",
       "      <td>...</td>\n",
       "      <td>...</td>\n",
       "      <td>...</td>\n",
       "      <td>...</td>\n",
       "      <td>...</td>\n",
       "      <td>...</td>\n",
       "      <td>...</td>\n",
       "      <td>...</td>\n",
       "    </tr>\n",
       "    <tr>\n",
       "      <th>885</th>\n",
       "      <td>3</td>\n",
       "      <td>39.0</td>\n",
       "      <td>0</td>\n",
       "      <td>5</td>\n",
       "      <td>29.1250</td>\n",
       "      <td>1</td>\n",
       "      <td>0</td>\n",
       "      <td>0</td>\n",
       "      <td>1</td>\n",
       "      <td>0</td>\n",
       "    </tr>\n",
       "    <tr>\n",
       "      <th>886</th>\n",
       "      <td>2</td>\n",
       "      <td>27.0</td>\n",
       "      <td>0</td>\n",
       "      <td>0</td>\n",
       "      <td>13.0000</td>\n",
       "      <td>0</td>\n",
       "      <td>1</td>\n",
       "      <td>0</td>\n",
       "      <td>0</td>\n",
       "      <td>1</td>\n",
       "    </tr>\n",
       "    <tr>\n",
       "      <th>887</th>\n",
       "      <td>1</td>\n",
       "      <td>19.0</td>\n",
       "      <td>0</td>\n",
       "      <td>0</td>\n",
       "      <td>30.0000</td>\n",
       "      <td>1</td>\n",
       "      <td>0</td>\n",
       "      <td>0</td>\n",
       "      <td>0</td>\n",
       "      <td>1</td>\n",
       "    </tr>\n",
       "    <tr>\n",
       "      <th>889</th>\n",
       "      <td>1</td>\n",
       "      <td>26.0</td>\n",
       "      <td>0</td>\n",
       "      <td>0</td>\n",
       "      <td>30.0000</td>\n",
       "      <td>0</td>\n",
       "      <td>1</td>\n",
       "      <td>1</td>\n",
       "      <td>0</td>\n",
       "      <td>0</td>\n",
       "    </tr>\n",
       "    <tr>\n",
       "      <th>890</th>\n",
       "      <td>3</td>\n",
       "      <td>32.0</td>\n",
       "      <td>0</td>\n",
       "      <td>0</td>\n",
       "      <td>7.7500</td>\n",
       "      <td>0</td>\n",
       "      <td>1</td>\n",
       "      <td>0</td>\n",
       "      <td>1</td>\n",
       "      <td>0</td>\n",
       "    </tr>\n",
       "  </tbody>\n",
       "</table>\n",
       "<p>712 rows × 10 columns</p>\n",
       "</div>"
      ],
      "text/plain": [
       "     Pclass   Age  SibSp  Parch     Fare  female  male  C  Q  S\n",
       "0         3  22.0      1      0   7.2500       0     1  0  0  1\n",
       "1         1  38.0      1      0  71.2833       1     0  1  0  0\n",
       "2         3  26.0      0      0   7.9250       1     0  0  0  1\n",
       "3         1  35.0      1      0  53.1000       1     0  0  0  1\n",
       "4         3  35.0      0      0   8.0500       0     1  0  0  1\n",
       "..      ...   ...    ...    ...      ...     ...   ... .. .. ..\n",
       "885       3  39.0      0      5  29.1250       1     0  0  1  0\n",
       "886       2  27.0      0      0  13.0000       0     1  0  0  1\n",
       "887       1  19.0      0      0  30.0000       1     0  0  0  1\n",
       "889       1  26.0      0      0  30.0000       0     1  1  0  0\n",
       "890       3  32.0      0      0   7.7500       0     1  0  1  0\n",
       "\n",
       "[712 rows x 10 columns]"
      ]
     },
     "execution_count": 7,
     "metadata": {},
     "output_type": "execute_result"
    }
   ],
   "source": [
    "sex = pd.get_dummies(x['Sex'])\n",
    "embarked = pd.get_dummies(x['Embarked'])\n",
    "x = pd.concat([x,sex,embarked],axis=1)\n",
    "x = x.drop(['Sex','Embarked'],axis=1)\n",
    "x"
   ]
  },
  {
   "cell_type": "code",
   "execution_count": 8,
   "metadata": {
    "colab": {
     "base_uri": "https://localhost:8080/"
    },
    "id": "FZtGblzyTiV1",
    "outputId": "57a7dd46-0740-4d76-8773-a023d533cc9a"
   },
   "outputs": [
    {
     "data": {
      "text/plain": [
       "(712, 10)"
      ]
     },
     "execution_count": 8,
     "metadata": {},
     "output_type": "execute_result"
    }
   ],
   "source": [
    "data_len,feature_size = x.shape\n",
    "x.shape"
   ]
  },
  {
   "cell_type": "code",
   "execution_count": 9,
   "metadata": {
    "id": "tSmK3CAHTiV2"
   },
   "outputs": [],
   "source": [
    "from sklearn.model_selection import train_test_split\n",
    "x_train, x_test, y_train, y_test = train_test_split(x,y,test_size=0.3,random_state=0)\n",
    "\n",
    "from sklearn.preprocessing import StandardScaler\n",
    "sc = StandardScaler()\n",
    "x_train = sc.fit_transform(x_train)\n",
    "x_test = sc.transform(x_test)"
   ]
  },
  {
   "cell_type": "markdown",
   "metadata": {
    "id": "g9ZhBqa1TiV2"
   },
   "source": [
    "# Part 2 - Now let's make the ANN"
   ]
  },
  {
   "cell_type": "code",
   "execution_count": 14,
   "metadata": {
    "id": "XKnFCS_lTiV2"
   },
   "outputs": [
    {
     "name": "stdout",
     "output_type": "stream",
     "text": [
      "Model: \"sequential_3\"\n",
      "_________________________________________________________________\n",
      "Layer (type)                 Output Shape              Param #   \n",
      "=================================================================\n",
      "dense_39 (Dense)             (None, 11)                121       \n",
      "_________________________________________________________________\n",
      "dense_40 (Dense)             (None, 11)                132       \n",
      "_________________________________________________________________\n",
      "dense_41 (Dense)             (None, 13)                156       \n",
      "_________________________________________________________________\n",
      "dense_42 (Dense)             (None, 5)                 70        \n",
      "_________________________________________________________________\n",
      "dense_43 (Dense)             (None, 11)                66        \n",
      "_________________________________________________________________\n",
      "dense_44 (Dense)             (None, 5)                 60        \n",
      "_________________________________________________________________\n",
      "dense_45 (Dense)             (None, 13)                78        \n",
      "_________________________________________________________________\n",
      "dense_46 (Dense)             (None, 5)                 70        \n",
      "_________________________________________________________________\n",
      "dense_47 (Dense)             (None, 11)                66        \n",
      "_________________________________________________________________\n",
      "dense_48 (Dense)             (None, 11)                132       \n",
      "_________________________________________________________________\n",
      "dense_49 (Dense)             (None, 9)                 108       \n",
      "_________________________________________________________________\n",
      "dense_50 (Dense)             (None, 15)                150       \n",
      "_________________________________________________________________\n",
      "dense_51 (Dense)             (None, 1)                 16        \n",
      "=================================================================\n",
      "Total params: 1,225\n",
      "Trainable params: 1,225\n",
      "Non-trainable params: 0\n",
      "_________________________________________________________________\n"
     ]
    }
   ],
   "source": [
    "model = Sequential()\n",
    "model.add(Input(shape=(feature_size,)))\n",
    "model.add(Dense(11,activation='relu',kernel_initializer='he_uniform'))\n",
    "model.add(Dense(11,activation='relu',kernel_initializer='he_uniform'))\n",
    "model.add(Dense(13,activation='relu',kernel_initializer='he_uniform'))\n",
    "model.add(Dense(5,activation='relu',kernel_initializer='he_uniform'))\n",
    "model.add(Dense(11,activation='relu',kernel_initializer='he_uniform'))\n",
    "model.add(Dense(5,activation='relu',kernel_initializer='he_uniform'))\n",
    "model.add(Dense(13,activation='relu',kernel_initializer='he_uniform'))\n",
    "model.add(Dense(5,activation='relu',kernel_initializer='he_uniform'))\n",
    "model.add(Dense(11,activation='relu',kernel_initializer='he_uniform'))\n",
    "model.add(Dense(11,activation='relu',kernel_initializer='he_uniform'))\n",
    "model.add(Dense(9,activation='relu',kernel_initializer='he_uniform'))\n",
    "model.add(Dense(15,activation='relu',kernel_initializer='he_uniform'))\n",
    "model.add(Dense(1,activation='sigmoid',kernel_initializer='glorot_uniform'))\n",
    "model.summary()"
   ]
  },
  {
   "cell_type": "code",
   "execution_count": 15,
   "metadata": {
    "colab": {
     "base_uri": "https://localhost:8080/"
    },
    "id": "1kgiFEZ9TiV2",
    "outputId": "e93eb929-25a2-43f8-9194-507494a51bb6"
   },
   "outputs": [
    {
     "name": "stdout",
     "output_type": "stream",
     "text": [
      "Epoch 1/100\n",
      "16/16 [==============================] - 1s 39ms/step - loss: 0.6492 - accuracy: 0.6004 - val_loss: 0.6769 - val_accuracy: 0.5701\n",
      "Epoch 2/100\n",
      "16/16 [==============================] - 0s 11ms/step - loss: 0.6182 - accuracy: 0.6044 - val_loss: 0.6708 - val_accuracy: 0.5935\n",
      "Epoch 3/100\n",
      "16/16 [==============================] - 0s 11ms/step - loss: 0.5810 - accuracy: 0.6707 - val_loss: 0.6561 - val_accuracy: 0.6589\n",
      "Epoch 4/100\n",
      "16/16 [==============================] - 0s 11ms/step - loss: 0.5482 - accuracy: 0.7369 - val_loss: 0.6472 - val_accuracy: 0.6916\n",
      "Epoch 5/100\n",
      "16/16 [==============================] - 0s 11ms/step - loss: 0.5255 - accuracy: 0.7711 - val_loss: 0.6281 - val_accuracy: 0.7103\n",
      "Epoch 6/100\n",
      "16/16 [==============================] - 0s 11ms/step - loss: 0.4964 - accuracy: 0.7932 - val_loss: 0.6218 - val_accuracy: 0.6963\n",
      "Epoch 7/100\n",
      "16/16 [==============================] - 0s 11ms/step - loss: 0.4771 - accuracy: 0.8032 - val_loss: 0.6165 - val_accuracy: 0.6963\n",
      "Epoch 8/100\n",
      "16/16 [==============================] - 0s 14ms/step - loss: 0.4576 - accuracy: 0.8213 - val_loss: 0.6158 - val_accuracy: 0.6963\n",
      "Epoch 9/100\n",
      "16/16 [==============================] - 0s 11ms/step - loss: 0.4442 - accuracy: 0.8052 - val_loss: 0.6260 - val_accuracy: 0.7009\n",
      "Epoch 10/100\n",
      "16/16 [==============================] - 0s 10ms/step - loss: 0.4360 - accuracy: 0.8133 - val_loss: 0.6207 - val_accuracy: 0.6636\n",
      "Epoch 11/100\n",
      "16/16 [==============================] - 0s 10ms/step - loss: 0.4391 - accuracy: 0.8313 - val_loss: 0.6415 - val_accuracy: 0.7009\n",
      "Epoch 12/100\n",
      "16/16 [==============================] - 0s 10ms/step - loss: 0.4072 - accuracy: 0.8353 - val_loss: 0.6120 - val_accuracy: 0.7009\n",
      "Epoch 13/100\n",
      "16/16 [==============================] - 0s 10ms/step - loss: 0.4063 - accuracy: 0.8434 - val_loss: 0.6267 - val_accuracy: 0.7196\n",
      "Epoch 14/100\n",
      "16/16 [==============================] - 0s 11ms/step - loss: 0.3931 - accuracy: 0.8414 - val_loss: 0.6158 - val_accuracy: 0.6963\n",
      "Epoch 15/100\n",
      "16/16 [==============================] - 0s 10ms/step - loss: 0.3911 - accuracy: 0.8494 - val_loss: 0.6439 - val_accuracy: 0.7009\n",
      "Epoch 16/100\n",
      "16/16 [==============================] - 0s 11ms/step - loss: 0.3901 - accuracy: 0.8454 - val_loss: 0.6155 - val_accuracy: 0.7103\n",
      "Epoch 17/100\n",
      "16/16 [==============================] - 0s 10ms/step - loss: 0.3727 - accuracy: 0.8534 - val_loss: 0.6229 - val_accuracy: 0.6963\n",
      "Epoch 18/100\n",
      "16/16 [==============================] - 0s 11ms/step - loss: 0.3714 - accuracy: 0.8514 - val_loss: 0.6242 - val_accuracy: 0.7056\n",
      "Epoch 19/100\n",
      "16/16 [==============================] - 0s 11ms/step - loss: 0.3623 - accuracy: 0.8635 - val_loss: 0.6305 - val_accuracy: 0.7103\n",
      "Epoch 20/100\n",
      "16/16 [==============================] - 0s 11ms/step - loss: 0.3618 - accuracy: 0.8614 - val_loss: 0.6367 - val_accuracy: 0.7009\n",
      "Epoch 21/100\n",
      "16/16 [==============================] - 0s 10ms/step - loss: 0.3630 - accuracy: 0.8574 - val_loss: 0.6281 - val_accuracy: 0.7056\n",
      "Epoch 22/100\n",
      "16/16 [==============================] - 0s 11ms/step - loss: 0.3529 - accuracy: 0.8675 - val_loss: 0.6234 - val_accuracy: 0.7150\n",
      "Epoch 23/100\n",
      "16/16 [==============================] - 0s 11ms/step - loss: 0.3523 - accuracy: 0.8655 - val_loss: 0.6462 - val_accuracy: 0.7009\n",
      "Epoch 24/100\n",
      "16/16 [==============================] - 0s 10ms/step - loss: 0.3493 - accuracy: 0.8735 - val_loss: 0.6342 - val_accuracy: 0.7103\n",
      "Epoch 25/100\n",
      "16/16 [==============================] - 0s 10ms/step - loss: 0.3466 - accuracy: 0.8635 - val_loss: 0.6378 - val_accuracy: 0.7009\n",
      "Epoch 26/100\n",
      "16/16 [==============================] - 0s 11ms/step - loss: 0.3370 - accuracy: 0.8715 - val_loss: 0.6479 - val_accuracy: 0.7009\n",
      "Epoch 27/100\n",
      "16/16 [==============================] - 0s 11ms/step - loss: 0.3356 - accuracy: 0.8675 - val_loss: 0.6536 - val_accuracy: 0.7103\n",
      "Epoch 28/100\n",
      "16/16 [==============================] - 0s 11ms/step - loss: 0.3351 - accuracy: 0.8735 - val_loss: 0.6396 - val_accuracy: 0.7150\n",
      "Epoch 29/100\n",
      "16/16 [==============================] - 0s 12ms/step - loss: 0.3463 - accuracy: 0.8574 - val_loss: 0.6598 - val_accuracy: 0.7056\n",
      "Epoch 30/100\n",
      "16/16 [==============================] - 0s 12ms/step - loss: 0.3312 - accuracy: 0.8715 - val_loss: 0.6393 - val_accuracy: 0.7103\n",
      "Epoch 31/100\n",
      "16/16 [==============================] - 0s 11ms/step - loss: 0.3223 - accuracy: 0.8755 - val_loss: 0.6375 - val_accuracy: 0.7009\n",
      "Epoch 32/100\n",
      "16/16 [==============================] - 0s 11ms/step - loss: 0.3264 - accuracy: 0.8795 - val_loss: 0.6550 - val_accuracy: 0.7056\n",
      "Epoch 33/100\n",
      "16/16 [==============================] - 0s 10ms/step - loss: 0.3192 - accuracy: 0.8815 - val_loss: 0.6620 - val_accuracy: 0.7103\n",
      "Epoch 34/100\n",
      "16/16 [==============================] - 0s 11ms/step - loss: 0.3253 - accuracy: 0.8715 - val_loss: 0.6489 - val_accuracy: 0.7056\n",
      "Epoch 35/100\n",
      "16/16 [==============================] - 0s 10ms/step - loss: 0.3158 - accuracy: 0.8855 - val_loss: 0.6572 - val_accuracy: 0.7056\n",
      "Epoch 36/100\n",
      "16/16 [==============================] - 0s 11ms/step - loss: 0.3128 - accuracy: 0.8795 - val_loss: 0.6535 - val_accuracy: 0.6963\n",
      "Epoch 37/100\n",
      "16/16 [==============================] - 0s 11ms/step - loss: 0.3223 - accuracy: 0.8695 - val_loss: 0.6520 - val_accuracy: 0.6963\n",
      "Epoch 38/100\n",
      "16/16 [==============================] - 0s 12ms/step - loss: 0.3132 - accuracy: 0.8755 - val_loss: 0.6630 - val_accuracy: 0.6963\n",
      "Epoch 39/100\n",
      "16/16 [==============================] - 0s 11ms/step - loss: 0.3139 - accuracy: 0.8795 - val_loss: 0.6272 - val_accuracy: 0.7243\n",
      "Epoch 40/100\n",
      "16/16 [==============================] - 0s 12ms/step - loss: 0.3254 - accuracy: 0.8735 - val_loss: 0.6634 - val_accuracy: 0.6963\n",
      "Epoch 41/100\n",
      "16/16 [==============================] - 0s 12ms/step - loss: 0.3226 - accuracy: 0.8675 - val_loss: 0.6496 - val_accuracy: 0.7150\n",
      "Epoch 42/100\n",
      "16/16 [==============================] - 0s 12ms/step - loss: 0.3109 - accuracy: 0.8775 - val_loss: 0.6565 - val_accuracy: 0.7150\n",
      "Epoch 43/100\n",
      "16/16 [==============================] - 0s 11ms/step - loss: 0.3101 - accuracy: 0.8755 - val_loss: 0.6656 - val_accuracy: 0.6963\n",
      "Epoch 44/100\n",
      "16/16 [==============================] - 0s 12ms/step - loss: 0.3059 - accuracy: 0.8855 - val_loss: 0.6496 - val_accuracy: 0.7290\n",
      "Epoch 45/100\n",
      "16/16 [==============================] - 0s 10ms/step - loss: 0.2968 - accuracy: 0.8876 - val_loss: 0.6842 - val_accuracy: 0.7103\n",
      "Epoch 46/100\n",
      "16/16 [==============================] - 0s 11ms/step - loss: 0.3036 - accuracy: 0.8815 - val_loss: 0.6683 - val_accuracy: 0.7056\n",
      "Epoch 47/100\n",
      "16/16 [==============================] - 0s 11ms/step - loss: 0.3019 - accuracy: 0.8835 - val_loss: 0.6694 - val_accuracy: 0.6963\n",
      "Epoch 48/100\n",
      "16/16 [==============================] - 0s 11ms/step - loss: 0.2928 - accuracy: 0.8896 - val_loss: 0.6678 - val_accuracy: 0.7196\n",
      "Epoch 49/100\n",
      "16/16 [==============================] - 0s 11ms/step - loss: 0.2897 - accuracy: 0.8896 - val_loss: 0.6857 - val_accuracy: 0.6963\n",
      "Epoch 50/100\n",
      "16/16 [==============================] - 0s 11ms/step - loss: 0.2889 - accuracy: 0.8876 - val_loss: 0.6720 - val_accuracy: 0.7103\n",
      "Epoch 51/100\n",
      "16/16 [==============================] - 0s 11ms/step - loss: 0.2901 - accuracy: 0.8835 - val_loss: 0.6919 - val_accuracy: 0.7196\n",
      "Epoch 52/100\n",
      "16/16 [==============================] - 0s 12ms/step - loss: 0.2866 - accuracy: 0.8896 - val_loss: 0.6858 - val_accuracy: 0.7150\n",
      "Epoch 53/100\n",
      "16/16 [==============================] - 0s 11ms/step - loss: 0.2953 - accuracy: 0.8835 - val_loss: 0.6918 - val_accuracy: 0.7243\n",
      "Epoch 54/100\n",
      "16/16 [==============================] - 0s 12ms/step - loss: 0.2854 - accuracy: 0.8916 - val_loss: 0.6945 - val_accuracy: 0.7243\n",
      "Epoch 55/100\n",
      "16/16 [==============================] - 0s 12ms/step - loss: 0.2793 - accuracy: 0.8855 - val_loss: 0.6906 - val_accuracy: 0.7336\n",
      "Epoch 56/100\n",
      "16/16 [==============================] - 0s 10ms/step - loss: 0.2779 - accuracy: 0.8896 - val_loss: 0.6910 - val_accuracy: 0.7336\n",
      "Epoch 57/100\n",
      "16/16 [==============================] - 0s 11ms/step - loss: 0.2961 - accuracy: 0.8855 - val_loss: 0.7082 - val_accuracy: 0.7290\n",
      "Epoch 58/100\n"
     ]
    },
    {
     "name": "stdout",
     "output_type": "stream",
     "text": [
      "16/16 [==============================] - 0s 11ms/step - loss: 0.2832 - accuracy: 0.8896 - val_loss: 0.7123 - val_accuracy: 0.7243\n",
      "Epoch 59/100\n",
      "16/16 [==============================] - 0s 12ms/step - loss: 0.2733 - accuracy: 0.8936 - val_loss: 0.6781 - val_accuracy: 0.7336\n",
      "Epoch 60/100\n",
      "16/16 [==============================] - 0s 11ms/step - loss: 0.2773 - accuracy: 0.8916 - val_loss: 0.7256 - val_accuracy: 0.7336\n",
      "Epoch 61/100\n",
      "16/16 [==============================] - 0s 11ms/step - loss: 0.2765 - accuracy: 0.8896 - val_loss: 0.7228 - val_accuracy: 0.7009\n",
      "Epoch 62/100\n",
      "16/16 [==============================] - 0s 11ms/step - loss: 0.2744 - accuracy: 0.8976 - val_loss: 0.7153 - val_accuracy: 0.7383\n",
      "Epoch 63/100\n",
      "16/16 [==============================] - 0s 11ms/step - loss: 0.2754 - accuracy: 0.8956 - val_loss: 0.7477 - val_accuracy: 0.7290\n",
      "Epoch 64/100\n",
      "16/16 [==============================] - 0s 12ms/step - loss: 0.2751 - accuracy: 0.8876 - val_loss: 0.7248 - val_accuracy: 0.7009\n",
      "Epoch 65/100\n",
      "16/16 [==============================] - 0s 10ms/step - loss: 0.2720 - accuracy: 0.8936 - val_loss: 0.7559 - val_accuracy: 0.7150\n",
      "Epoch 66/100\n",
      "16/16 [==============================] - 0s 11ms/step - loss: 0.2685 - accuracy: 0.8916 - val_loss: 0.7454 - val_accuracy: 0.7196\n",
      "Epoch 67/100\n",
      "16/16 [==============================] - 0s 12ms/step - loss: 0.2724 - accuracy: 0.8936 - val_loss: 0.7578 - val_accuracy: 0.7103\n",
      "Epoch 68/100\n",
      "16/16 [==============================] - 0s 12ms/step - loss: 0.2663 - accuracy: 0.8996 - val_loss: 0.7168 - val_accuracy: 0.7336\n",
      "Epoch 69/100\n",
      "16/16 [==============================] - 0s 11ms/step - loss: 0.2710 - accuracy: 0.8916 - val_loss: 0.7303 - val_accuracy: 0.7290\n",
      "Epoch 70/100\n",
      "16/16 [==============================] - 0s 12ms/step - loss: 0.2841 - accuracy: 0.8855 - val_loss: 0.7405 - val_accuracy: 0.6963\n",
      "Epoch 71/100\n",
      "16/16 [==============================] - 0s 12ms/step - loss: 0.2987 - accuracy: 0.8815 - val_loss: 0.7421 - val_accuracy: 0.7477\n",
      "Epoch 72/100\n",
      "16/16 [==============================] - 0s 13ms/step - loss: 0.2840 - accuracy: 0.8835 - val_loss: 0.7882 - val_accuracy: 0.7009\n",
      "Epoch 73/100\n",
      "16/16 [==============================] - 0s 12ms/step - loss: 0.2830 - accuracy: 0.8855 - val_loss: 0.7344 - val_accuracy: 0.7103\n",
      "Epoch 74/100\n",
      "16/16 [==============================] - 0s 11ms/step - loss: 0.2851 - accuracy: 0.8896 - val_loss: 0.7069 - val_accuracy: 0.7196\n",
      "Epoch 75/100\n",
      "16/16 [==============================] - 0s 11ms/step - loss: 0.2747 - accuracy: 0.8956 - val_loss: 0.7321 - val_accuracy: 0.7196\n",
      "Epoch 76/100\n",
      "16/16 [==============================] - 0s 11ms/step - loss: 0.2702 - accuracy: 0.8936 - val_loss: 0.7505 - val_accuracy: 0.7243\n",
      "Epoch 77/100\n",
      "16/16 [==============================] - 0s 12ms/step - loss: 0.2759 - accuracy: 0.8956 - val_loss: 0.7414 - val_accuracy: 0.7056\n",
      "Epoch 78/100\n",
      "16/16 [==============================] - 0s 12ms/step - loss: 0.2743 - accuracy: 0.8976 - val_loss: 0.8031 - val_accuracy: 0.7009\n",
      "Epoch 79/100\n",
      "16/16 [==============================] - 0s 12ms/step - loss: 0.2733 - accuracy: 0.8976 - val_loss: 0.7864 - val_accuracy: 0.7103\n",
      "Epoch 80/100\n",
      "16/16 [==============================] - 0s 12ms/step - loss: 0.2844 - accuracy: 0.8936 - val_loss: 0.7853 - val_accuracy: 0.7290\n",
      "Epoch 81/100\n",
      "16/16 [==============================] - 0s 11ms/step - loss: 0.2734 - accuracy: 0.8956 - val_loss: 0.7719 - val_accuracy: 0.7009\n",
      "Epoch 82/100\n",
      "16/16 [==============================] - 0s 12ms/step - loss: 0.2667 - accuracy: 0.8996 - val_loss: 0.7730 - val_accuracy: 0.7056\n",
      "Epoch 83/100\n",
      "16/16 [==============================] - 0s 12ms/step - loss: 0.2697 - accuracy: 0.9016 - val_loss: 0.7705 - val_accuracy: 0.7196\n",
      "Epoch 84/100\n",
      "16/16 [==============================] - 0s 12ms/step - loss: 0.2668 - accuracy: 0.8916 - val_loss: 0.7837 - val_accuracy: 0.6916\n",
      "Epoch 85/100\n",
      "16/16 [==============================] - 0s 12ms/step - loss: 0.2644 - accuracy: 0.9016 - val_loss: 0.7811 - val_accuracy: 0.7290\n",
      "Epoch 86/100\n",
      "16/16 [==============================] - 0s 12ms/step - loss: 0.2634 - accuracy: 0.8916 - val_loss: 0.8159 - val_accuracy: 0.7056\n",
      "Epoch 87/100\n",
      "16/16 [==============================] - 0s 12ms/step - loss: 0.2633 - accuracy: 0.8976 - val_loss: 0.8040 - val_accuracy: 0.6963\n",
      "Epoch 88/100\n",
      "16/16 [==============================] - 0s 11ms/step - loss: 0.2701 - accuracy: 0.8916 - val_loss: 0.8146 - val_accuracy: 0.7150\n",
      "Epoch 89/100\n",
      "16/16 [==============================] - 0s 12ms/step - loss: 0.2605 - accuracy: 0.8936 - val_loss: 0.8039 - val_accuracy: 0.6916\n",
      "Epoch 90/100\n",
      "16/16 [==============================] - 0s 12ms/step - loss: 0.2606 - accuracy: 0.8956 - val_loss: 0.8180 - val_accuracy: 0.7243\n",
      "Epoch 91/100\n",
      "16/16 [==============================] - 0s 12ms/step - loss: 0.2598 - accuracy: 0.8996 - val_loss: 0.8151 - val_accuracy: 0.6963\n",
      "Epoch 92/100\n",
      "16/16 [==============================] - 0s 13ms/step - loss: 0.2728 - accuracy: 0.8876 - val_loss: 0.8253 - val_accuracy: 0.7196\n",
      "Epoch 93/100\n",
      "16/16 [==============================] - 0s 11ms/step - loss: 0.2791 - accuracy: 0.8916 - val_loss: 0.8233 - val_accuracy: 0.7056\n",
      "Epoch 94/100\n",
      "16/16 [==============================] - 0s 11ms/step - loss: 0.3341 - accuracy: 0.8655 - val_loss: 0.7221 - val_accuracy: 0.7196\n",
      "Epoch 95/100\n",
      "16/16 [==============================] - 0s 12ms/step - loss: 0.2882 - accuracy: 0.8876 - val_loss: 0.7348 - val_accuracy: 0.7150\n",
      "Epoch 96/100\n",
      "16/16 [==============================] - 0s 12ms/step - loss: 0.2703 - accuracy: 0.8855 - val_loss: 0.7876 - val_accuracy: 0.7430\n",
      "Epoch 97/100\n",
      "16/16 [==============================] - 0s 12ms/step - loss: 0.2914 - accuracy: 0.8835 - val_loss: 0.8173 - val_accuracy: 0.6916\n",
      "Epoch 98/100\n",
      "16/16 [==============================] - 0s 11ms/step - loss: 0.2718 - accuracy: 0.8976 - val_loss: 0.7726 - val_accuracy: 0.7150\n",
      "Epoch 99/100\n",
      "16/16 [==============================] - 0s 12ms/step - loss: 0.2591 - accuracy: 0.8976 - val_loss: 0.7947 - val_accuracy: 0.7056\n",
      "Epoch 100/100\n",
      "16/16 [==============================] - 0s 12ms/step - loss: 0.2626 - accuracy: 0.8916 - val_loss: 0.7832 - val_accuracy: 0.7150\n"
     ]
    }
   ],
   "source": [
    "model.compile(optimizer='adam',loss='binary_crossentropy',metrics=['accuracy'])\n",
    "r = model.fit(x_train,y_train,validation_data=(x_test,y_test),epochs=100)"
   ]
  },
  {
   "cell_type": "code",
   "execution_count": 16,
   "metadata": {
    "colab": {
     "base_uri": "https://localhost:8080/"
    },
    "id": "QOHgq9qvTiV3",
    "outputId": "740a308c-84fd-43b0-a8ce-2b8ddb36350d"
   },
   "outputs": [
    {
     "data": {
      "text/plain": [
       "<matplotlib.legend.Legend at 0x18d9b237d30>"
      ]
     },
     "execution_count": 16,
     "metadata": {},
     "output_type": "execute_result"
    },
    {
     "data": {
      "image/png": "[encoded data removed]",
      "text/plain": [
       "<Figure size 432x288 with 1 Axes>"
      ]
     },
     "metadata": {
      "needs_background": "light"
     },
     "output_type": "display_data"
    }
   ],
   "source": [
    "# Plot loss per iteration\n",
    "import matplotlib.pyplot as plt\n",
    "plt.plot(r.history['loss'], label='loss')\n",
    "plt.plot(r.history['val_loss'], label='val_loss')\n",
    "plt.legend()"
   ]
  },
  {
   "cell_type": "code",
   "execution_count": 17,
   "metadata": {
    "colab": {
     "base_uri": "https://localhost:8080/"
    },
    "id": "5T_7slaaTiV3",
    "outputId": "4d1e4cbc-229a-47bf-f7b5-903eec4cca01"
   },
   "outputs": [
    {
     "data": {
      "text/plain": [
       "<matplotlib.legend.Legend at 0x18d9f770c18>"
      ]
     },
     "execution_count": 17,
     "metadata": {},
     "output_type": "execute_result"
    },
    {
     "data": {
      "image/png": "[encoded data removed]",
      "text/plain": [
       "<Figure size 432x288 with 1 Axes>"
      ]
     },
     "metadata": {
      "needs_background": "light"
     },
     "output_type": "display_data"
    }
   ],
   "source": [
    "# Plot accuracy per iteration\n",
    "plt.plot(r.history['accuracy'], label='acc')\n",
    "plt.plot(r.history['val_accuracy'], label='val_acc')\n",
    "plt.legend()"
   ]
  },
  {
   "cell_type": "code",
   "execution_count": 45,
   "metadata": {
    "id": "fWPFwO4lTiV3"
   },
   "outputs": [],
   "source": [
    "# Part 3 - Making the predictions and evaluating the model"
   ]
  },
  {
   "cell_type": "code",
   "execution_count": 19,
   "metadata": {
    "id": "tDzYyFIuTiV3"
   },
   "outputs": [
    {
     "name": "stdout",
     "output_type": "stream",
     "text": [
      "[[99 26]\n",
      " [35 54]]\n",
      "0.7149532710280374\n"
     ]
    }
   ],
   "source": [
    "# Predicting the Test set results\n",
    "y_pred = model.predict(x_test)\n",
    "y_pred = (y_pred > 0.5)\n",
    "#print(y_pred)\n",
    "\n",
    "# Making the Confusion Matrix\n",
    "from sklearn.metrics import confusion_matrix\n",
    "cm = confusion_matrix(y_test, y_pred)\n",
    "print(cm)\n",
    "\n",
    "# Calculate the Accuracy\n",
    "from sklearn.metrics import accuracy_score\n",
    "score=accuracy_score(y_pred,y_test)\n",
    "print(score)"
   ]
  },
  {
   "cell_type": "code",
   "execution_count": null,
   "metadata": {},
   "outputs": [],
   "source": []
  }
 ],
 "metadata": {
  "accelerator": "GPU",
  "colab": {
   "name": "Titanic_kerasTuner.ipynb",
   "provenance": []
  },
  "kernelspec": {
   "display_name": "TF2_1",
   "language": "python",
   "name": "tf20"
  },
  "language_info": {
   "codemirror_mode": {
    "name": "ipython",
    "version": 3
   },
   "file_extension": ".py",
   "mimetype": "text/x-python",
   "name": "python",
   "nbconvert_exporter": "python",
   "pygments_lexer": "ipython3",
   "version": "3.6.9"
  }
 },
 "nbformat": 4,
 "nbformat_minor": 1
}
